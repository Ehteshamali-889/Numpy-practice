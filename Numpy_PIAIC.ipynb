{
  "nbformat": 4,
  "nbformat_minor": 0,
  "metadata": {
    "colab": {
      "name": "Numpy-PIAIC.ipynb",
      "provenance": []
    },
    "kernelspec": {
      "name": "python3",
      "display_name": "Python 3"
    },
    "language_info": {
      "name": "python"
    }
  },
  "cells": [
    {
      "cell_type": "markdown",
      "source": [
        "**Numpy vs Python**"
      ],
      "metadata": {
        "id": "1T2JKHff8WJx"
      }
    },
    {
      "cell_type": "code",
      "execution_count": null,
      "metadata": {
        "id": "YhsEIk8N79A4"
      },
      "outputs": [],
      "source": [
        "import numpy as np\n",
        "l=range(1000)\n",
        "d=np.arange(1000)\n",
        "%time for i in range(1,10): r=[x*2 for x in l]\n"
      ]
    },
    {
      "cell_type": "code",
      "source": [
        "%time for i in range(1,10): r=d*2"
      ],
      "metadata": {
        "id": "VAXyFGtY88Kc"
      },
      "execution_count": null,
      "outputs": []
    },
    {
      "cell_type": "markdown",
      "source": [
        "**Multi Dimensional Array**"
      ],
      "metadata": {
        "id": "0aRuM6659DyU"
      }
    },
    {
      "cell_type": "code",
      "source": [
        "x=np.zeros((4,4))\n",
        "x"
      ],
      "metadata": {
        "id": "tsZpXlxK9HBQ"
      },
      "execution_count": null,
      "outputs": []
    },
    {
      "cell_type": "code",
      "source": [
        "np.ones((5,5))"
      ],
      "metadata": {
        "id": "jn12IrBl9U5c"
      },
      "execution_count": null,
      "outputs": []
    },
    {
      "cell_type": "code",
      "source": [
        "np.empty((3,3))"
      ],
      "metadata": {
        "id": "3znZqphi9ats"
      },
      "execution_count": null,
      "outputs": []
    },
    {
      "cell_type": "code",
      "source": [
        "l=[1,2,3,4]\n",
        "np.array(l)"
      ],
      "metadata": {
        "id": "YWDIRn-99f8T"
      },
      "execution_count": null,
      "outputs": []
    },
    {
      "cell_type": "code",
      "source": [
        "x=np.arange(1,100,10)"
      ],
      "metadata": {
        "id": "oDY1cgnt9mPz"
      },
      "execution_count": 11,
      "outputs": []
    },
    {
      "cell_type": "code",
      "source": [
        "x.shape"
      ],
      "metadata": {
        "id": "yW2TgYAj9vDG"
      },
      "execution_count": null,
      "outputs": []
    },
    {
      "cell_type": "code",
      "source": [
        "x=np.zeros((10,10))\n",
        "x.shape"
      ],
      "metadata": {
        "colab": {
          "base_uri": "https://localhost:8080/"
        },
        "id": "xoXAURcn94tM",
        "outputId": "66d15527-d237-409f-bf44-fe15694ad4c7"
      },
      "execution_count": 14,
      "outputs": [
        {
          "output_type": "execute_result",
          "data": {
            "text/plain": [
              "(10, 10)"
            ]
          },
          "metadata": {},
          "execution_count": 14
        }
      ]
    },
    {
      "cell_type": "code",
      "source": [
        "y=x.reshape((2,2,5,5))\n",
        "y"
      ],
      "metadata": {
        "id": "2rZpEkNt9-Mc"
      },
      "execution_count": null,
      "outputs": []
    },
    {
      "cell_type": "code",
      "source": [
        "y.dtype"
      ],
      "metadata": {
        "id": "NZ9Hxxqn-GB-"
      },
      "execution_count": null,
      "outputs": []
    },
    {
      "cell_type": "code",
      "source": [
        "y.ndim"
      ],
      "metadata": {
        "id": "hKt5nklo-JZo"
      },
      "execution_count": null,
      "outputs": []
    },
    {
      "cell_type": "markdown",
      "source": [
        "**Arithmetic with ndarray**"
      ],
      "metadata": {
        "id": "zY6zIVgn-Of6"
      }
    },
    {
      "cell_type": "code",
      "source": [
        "a=np.random.randn((10))\n",
        "b=np.random.randn((10))"
      ],
      "metadata": {
        "id": "UKPQbf3m-RFH"
      },
      "execution_count": 18,
      "outputs": []
    },
    {
      "cell_type": "code",
      "source": [
        "a"
      ],
      "metadata": {
        "id": "7V2HvF0m-gKI"
      },
      "execution_count": null,
      "outputs": []
    },
    {
      "cell_type": "code",
      "source": [
        "b"
      ],
      "metadata": {
        "id": "wK79WDv2-jI_"
      },
      "execution_count": null,
      "outputs": []
    },
    {
      "cell_type": "code",
      "source": [
        "a+b"
      ],
      "metadata": {
        "id": "gN0iX6qk-kp8"
      },
      "execution_count": null,
      "outputs": []
    },
    {
      "cell_type": "code",
      "source": [
        "a-b"
      ],
      "metadata": {
        "id": "XW58iiIW-oWg"
      },
      "execution_count": null,
      "outputs": []
    },
    {
      "cell_type": "code",
      "source": [
        "2*a"
      ],
      "metadata": {
        "id": "eB9a7f31-q1z"
      },
      "execution_count": null,
      "outputs": []
    },
    {
      "cell_type": "code",
      "source": [
        "1/a"
      ],
      "metadata": {
        "id": "YUyHrSGY-ufv"
      },
      "execution_count": null,
      "outputs": []
    },
    {
      "cell_type": "code",
      "source": [
        "a>0"
      ],
      "metadata": {
        "id": "cJ8EwDXe-xMs"
      },
      "execution_count": null,
      "outputs": []
    },
    {
      "cell_type": "code",
      "source": [
        "a[a>0]"
      ],
      "metadata": {
        "colab": {
          "base_uri": "https://localhost:8080/"
        },
        "id": "aRuxy2FC-0J4",
        "outputId": "6ce33067-694e-4bca-a6cb-ac3d5b42f505"
      },
      "execution_count": 26,
      "outputs": [
        {
          "output_type": "execute_result",
          "data": {
            "text/plain": [
              "array([2.99528686, 0.74419254, 0.75280232, 0.1865929 ])"
            ]
          },
          "metadata": {},
          "execution_count": 26
        }
      ]
    },
    {
      "cell_type": "markdown",
      "source": [
        "**Indexing & Slicing**"
      ],
      "metadata": {
        "id": "lM244TML-7pB"
      }
    },
    {
      "cell_type": "code",
      "source": [
        "x=np.array([1,2,4,7,8])\n",
        "x[4]"
      ],
      "metadata": {
        "id": "7C9C6uWW-9Ou"
      },
      "execution_count": null,
      "outputs": []
    },
    {
      "cell_type": "code",
      "source": [
        "x[x>5]"
      ],
      "metadata": {
        "id": "G5nPPiba_JNh"
      },
      "execution_count": null,
      "outputs": []
    },
    {
      "cell_type": "code",
      "source": [
        "x[[2,1]]"
      ],
      "metadata": {
        "id": "lnz0-itY_McU"
      },
      "execution_count": null,
      "outputs": []
    },
    {
      "cell_type": "code",
      "source": [
        "z=np.random.randn(10,10)\n",
        "z"
      ],
      "metadata": {
        "id": "XHFtZJBB_S3h"
      },
      "execution_count": null,
      "outputs": []
    },
    {
      "cell_type": "code",
      "source": [
        "z[0][4]"
      ],
      "metadata": {
        "id": "jdvMDljI_iq_"
      },
      "execution_count": null,
      "outputs": []
    },
    {
      "cell_type": "code",
      "source": [
        "z[1:10:2]"
      ],
      "metadata": {
        "id": "A6FbIgOm_oUT"
      },
      "execution_count": null,
      "outputs": []
    },
    {
      "cell_type": "code",
      "source": [
        "z[::,0:4]"
      ],
      "metadata": {
        "id": "cUfbugKK_tNq"
      },
      "execution_count": null,
      "outputs": []
    },
    {
      "cell_type": "code",
      "source": [
        "e=np.ones((5,5))\n",
        "e"
      ],
      "metadata": {
        "id": "zIzDIETk_3f3"
      },
      "execution_count": null,
      "outputs": []
    },
    {
      "cell_type": "code",
      "source": [
        "e[1:-1,1:-1]=0\n",
        "e"
      ],
      "metadata": {
        "colab": {
          "base_uri": "https://localhost:8080/"
        },
        "id": "JSDFOaxW_8NY",
        "outputId": "ea888ad2-6630-412d-dba5-8ec393d7077e"
      },
      "execution_count": 37,
      "outputs": [
        {
          "output_type": "execute_result",
          "data": {
            "text/plain": [
              "array([[1., 1., 1., 1., 1.],\n",
              "       [1., 0., 0., 0., 1.],\n",
              "       [1., 0., 0., 0., 1.],\n",
              "       [1., 0., 0., 0., 1.],\n",
              "       [1., 1., 1., 1., 1.]])"
            ]
          },
          "metadata": {},
          "execution_count": 37
        }
      ]
    }
  ]
}